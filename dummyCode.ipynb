{
 "cells": [
  {
   "cell_type": "code",
   "execution_count": 28,
   "metadata": {},
   "outputs": [
    {
     "data": {
      "text/plain": [
       "{datetime.datetime(2024, 6, 13, 0, 0): 1,\n",
       " datetime.datetime(2024, 1, 15, 0, 0): 3,\n",
       " datetime.datetime(2024, 2, 1, 0, 0): 6,\n",
       " datetime.datetime(2024, 2, 12, 0, 0): 2,\n",
       " datetime.datetime(2024, 1, 30, 0, 0): 4,\n",
       " datetime.datetime(2024, 3, 11, 0, 0): 1,\n",
       " datetime.datetime(2024, 1, 9, 0, 0): 7,\n",
       " datetime.datetime(2024, 2, 23, 0, 0): 2,\n",
       " datetime.datetime(2024, 1, 10, 0, 0): 2,\n",
       " datetime.datetime(2024, 1, 12, 0, 0): 4,\n",
       " datetime.datetime(2024, 1, 17, 0, 0): 2,\n",
       " datetime.datetime(2024, 2, 24, 0, 0): 1,\n",
       " datetime.datetime(2024, 2, 15, 0, 0): 8,\n",
       " datetime.datetime(2024, 3, 12, 0, 0): 3,\n",
       " datetime.datetime(2024, 2, 7, 0, 0): 7,\n",
       " datetime.datetime(2024, 3, 7, 0, 0): 2,\n",
       " datetime.datetime(2024, 1, 24, 0, 0): 1,\n",
       " datetime.datetime(2024, 1, 5, 0, 0): 4,\n",
       " datetime.datetime(2024, 1, 8, 0, 0): 12,\n",
       " datetime.datetime(2024, 1, 23, 0, 0): 1,\n",
       " datetime.datetime(2024, 2, 16, 0, 0): 3,\n",
       " datetime.datetime(2024, 2, 14, 0, 0): 1,\n",
       " datetime.datetime(2024, 6, 12, 0, 0): 3,\n",
       " datetime.datetime(2024, 4, 23, 0, 0): 2,\n",
       " datetime.datetime(2024, 3, 14, 0, 0): 4,\n",
       " datetime.datetime(2024, 1, 31, 0, 0): 5,\n",
       " datetime.datetime(2024, 1, 18, 0, 0): 1,\n",
       " datetime.datetime(2024, 1, 16, 0, 0): 3,\n",
       " datetime.datetime(2024, 4, 24, 0, 0): 1,\n",
       " datetime.datetime(2024, 3, 15, 0, 0): 1,\n",
       " datetime.datetime(2024, 3, 13, 0, 0): 1,\n",
       " datetime.datetime(2024, 1, 29, 0, 0): 5,\n",
       " datetime.datetime(2024, 6, 11, 0, 0): 1,\n",
       " datetime.datetime(2024, 1, 26, 0, 0): 2,\n",
       " datetime.datetime(2024, 1, 22, 0, 0): 5,\n",
       " datetime.datetime(2024, 2, 2, 0, 0): 2,\n",
       " datetime.datetime(2024, 2, 6, 0, 0): 3,\n",
       " datetime.datetime(2024, 2, 5, 0, 0): 2}"
      ]
     },
     "execution_count": 28,
     "metadata": {},
     "output_type": "execute_result"
    }
   ],
   "source": [
    "import pandas as pd\n",
    "import datetime\n",
    "import numpy as np\n",
    "import plotly.express as px\n",
    "\n",
    "# Load the data from the Excel file\n",
    "df = pd.read_excel('Overall.xlsx')\n",
    "\n",
    "# Initialize lists for each category\n",
    "datetime_list = []\n",
    "completed_list = []\n",
    "nan_list = []\n",
    "other_list = []\n",
    "\n",
    "# Separate elements into categories\n",
    "for elem in df['Plan Integration']:\n",
    "    if isinstance(elem, datetime.datetime):\n",
    "        datetime_list.append(elem)\n",
    "    elif elem == 'Completed':\n",
    "        completed_list.append(elem)\n",
    "    elif pd.isna(elem):\n",
    "        nan_list.append(elem)\n",
    "    else:\n",
    "        other_list.append(elem)\n",
    "\n",
    "datetime_freq = {elem: datetime_list.count(elem) for elem in set(datetime_list)}\n",
    "completed_freq = {elem: completed_list.count(elem) for elem in set(completed_list)}\n",
    "nan_freq = {np.nan: len(nan_list)}\n",
    "other_freq = {elem: other_list.count(elem) for elem in set(other_list)}\n",
    "\n",
    "frequency_dict = {\n",
    "    'datetime': datetime_freq,\n",
    "    'Completed': completed_freq,\n",
    "    'nan': nan_freq,\n",
    "    'Other': other_freq\n",
    "}\n",
    "\n",
    "frequency_dict['datetime']"
   ]
  },
  {
   "cell_type": "code",
   "execution_count": 33,
   "metadata": {},
   "outputs": [
    {
     "ename": "IndentationError",
     "evalue": "unindent does not match any outer indentation level (<tokenize>, line 31)",
     "output_type": "error",
     "traceback": [
      "\u001b[1;36m  File \u001b[1;32m<tokenize>:31\u001b[1;36m\u001b[0m\n\u001b[1;33m    def BarGraph(self):\u001b[0m\n\u001b[1;37m    ^\u001b[0m\n\u001b[1;31mIndentationError\u001b[0m\u001b[1;31m:\u001b[0m unindent does not match any outer indentation level\n"
     ]
    }
   ],
   "source": [
    "def BarGraphGenerator(self, category, plan_col, actual_col):\n",
    "        self.df[plan_col] = pd.to_datetime(self.df[plan_col], errors='coerce')\n",
    "        self.df[actual_col] = pd.to_datetime(self.df[actual_col], errors='coerce')\n",
    "\n",
    "        plan_counts = self.df[plan_col].dt.to_period('M').value_counts().sort_index().reset_index()\n",
    "        plan_counts.columns = ['Month', 'Count']\n",
    "        plan_counts['Type'] = 'Plan'\n",
    "\n",
    "        actual_counts = self.df[actual_col].dt.to_period('M').value_counts().sort_index().reset_index()\n",
    "        actual_counts.columns = ['Month', 'Count']\n",
    "        actual_counts['Type'] = 'Actual'\n",
    "\n",
    "        combined_counts = pd.concat([plan_counts, actual_counts])\n",
    "\n",
    "        combined_counts['Month'] = combined_counts['Month'].astype(str)\n",
    "\n",
    "        fig = px.bar(\n",
    "            combined_counts,\n",
    "            x='Month',\n",
    "            y='Count',\n",
    "            color='Type',\n",
    "            barmode='group',\n",
    "            title=f'{category} Plan vs Actual'\n",
    "        )\n",
    "\n",
    "        fig.update_xaxes(type='category', title_text='Month')\n",
    "        fig.update_yaxes(title_text='Number of Activities')\n",
    "\n",
    "        return fig\n",
    "\n",
    "    def BarGraph(self):\n",
    "        col1, col2 = st.columns(2)\n",
    "        col_index = 0\n",
    "\n",
    "        for category, (plan_col, actual_col) in self.categories.items():\n",
    "            fig = self.BarGraphGenerator(category, plan_col, actual_col)\n",
    "            if col_index % 2 == 0:\n",
    "                col1.plotly_chart(fig, config=self.config)\n",
    "            else:\n",
    "                col2.plotly_chart(fig, config=self.config)\n",
    "            col_index += 1"
   ]
  }
 ],
 "metadata": {
  "kernelspec": {
   "display_name": "Python 3",
   "language": "python",
   "name": "python3"
  },
  "language_info": {
   "codemirror_mode": {
    "name": "ipython",
    "version": 3
   },
   "file_extension": ".py",
   "mimetype": "text/x-python",
   "name": "python",
   "nbconvert_exporter": "python",
   "pygments_lexer": "ipython3",
   "version": "3.11.5"
  }
 },
 "nbformat": 4,
 "nbformat_minor": 2
}
